{
 "cells": [
  {
   "cell_type": "code",
   "execution_count": null,
   "id": "a1c361d0-7bf4-4350-9a2a-261ebcf871c8",
   "metadata": {},
   "outputs": [],
   "source": [
    "sa"
   ]
  },
  {
   "cell_type": "code",
   "execution_count": 2,
   "id": "d217a9fc-3cf8-4260-a9a9-9d531018e869",
   "metadata": {},
   "outputs": [
    {
     "ename": "ModuleNotFoundError",
     "evalue": "No module named 'mlxtend'",
     "output_type": "error",
     "traceback": [
      "\u001b[1;31m---------------------------------------------------------------------------\u001b[0m",
      "\u001b[1;31mModuleNotFoundError\u001b[0m                       Traceback (most recent call last)",
      "Cell \u001b[1;32mIn[2], line 1\u001b[0m\n\u001b[1;32m----> 1\u001b[0m \u001b[38;5;28;01mfrom\u001b[39;00m \u001b[38;5;21;01mmlxtend\u001b[39;00m\u001b[38;5;21;01m.\u001b[39;00m\u001b[38;5;21;01mplotting\u001b[39;00m \u001b[38;5;28;01mimport\u001b[39;00m plot_decision_regions\n\u001b[0;32m      2\u001b[0m \u001b[38;5;28;01mimport\u001b[39;00m \u001b[38;5;21;01mnumpy\u001b[39;00m \u001b[38;5;28;01mas\u001b[39;00m \u001b[38;5;21;01mnp\u001b[39;00m\n\u001b[0;32m      3\u001b[0m \u001b[38;5;28;01mimport\u001b[39;00m \u001b[38;5;21;01mpandas\u001b[39;00m \u001b[38;5;28;01mas\u001b[39;00m \u001b[38;5;21;01mpd\u001b[39;00m\n",
      "\u001b[1;31mModuleNotFoundError\u001b[0m: No module named 'mlxtend'"
     ]
    }
   ],
   "source": [
    "from mlxtend.plotting import plot_decision_regions\n",
    "import numpy as np\n",
    "import pandas as pd\n",
    "import matplotlib.pyplot as plt\n",
    "import seaborn as sns\n",
    "sns.set()\n",
    "import warnings\n",
    "warnings.filterwarnings('ignore')\n",
    "%matplotlib inline\n",
    "#plt.style.use('ggplot')\n",
    "#ggplot is R based visualisation package that provides better graphics with higher level of abstraction"
   ]
  },
  {
   "cell_type": "markdown",
   "id": "f4f8c83b-fa98-473a-8fa1-0b76ae6933d9",
   "metadata": {},
   "source": [
    "Penerapan Algoritma Klasifikasi K-Nearest Neighbord pada Penyakit Diabetes"
   ]
  },
  {
   "cell_type": "markdown",
   "id": "8f1dd666-8dba-4430-9af0-3fbb8893776a",
   "metadata": {},
   "source": [
    "Basic Data Science and Machine Learning Pipeline"
   ]
  },
  {
   "cell_type": "markdown",
   "id": "75f4b1bd-b080-4a70-a782-4b7432986d23",
   "metadata": {},
   "source": [
    "OSEMN Pipeline:"
   ]
  },
  {
   "cell_type": "markdown",
   "id": "6bd944f6-5187-4c46-ad75-add9158a2ea5",
   "metadata": {},
   "source": [
    "O - Obtaining our data\n",
    "S - Scrubbing / Cleaning our data\n",
    "E - Exploring / Visualizing our data will allow us to find patterns and trends\n",
    "M - Modeling our data will give us our predictive power as a wizard\n",
    "N - Interpreting our data"
   ]
  },
  {
   "cell_type": "code",
   "execution_count": 1,
   "id": "dc317a31-49a1-4b18-b47f-94dcfb62e9e3",
   "metadata": {},
   "outputs": [
    {
     "ename": "NameError",
     "evalue": "name 'pd' is not defined",
     "output_type": "error",
     "traceback": [
      "\u001b[1;31m---------------------------------------------------------------------------\u001b[0m",
      "\u001b[1;31mNameError\u001b[0m                                 Traceback (most recent call last)",
      "Cell \u001b[1;32mIn[1], line 2\u001b[0m\n\u001b[0;32m      1\u001b[0m \u001b[38;5;66;03m#Loading the dataset\u001b[39;00m\n\u001b[1;32m----> 2\u001b[0m diabetes_data \u001b[38;5;241m=\u001b[39m \u001b[43mpd\u001b[49m\u001b[38;5;241m.\u001b[39mread_csv(\u001b[38;5;124m'\u001b[39m\u001b[38;5;124mdiabetes.csv\u001b[39m\u001b[38;5;124m'\u001b[39m)\n\u001b[0;32m      4\u001b[0m \u001b[38;5;66;03m#Print the first 5 rows of the dataframe.\u001b[39;00m\n\u001b[0;32m      5\u001b[0m diabetes_data\u001b[38;5;241m.\u001b[39mhead()\n",
      "\u001b[1;31mNameError\u001b[0m: name 'pd' is not defined"
     ]
    }
   ],
   "source": [
    "#Loading the dataset\n",
    "diabetes_data = pd.read_csv('diabetes.csv')\n",
    "\n",
    "#Print the first 5 rows of the dataframe.\n",
    "diabetes_data.head()"
   ]
  },
  {
   "cell_type": "code",
   "execution_count": null,
   "id": "9a51286b-b304-4970-b052-14e7efe5007e",
   "metadata": {},
   "outputs": [],
   "source": []
  }
 ],
 "metadata": {
  "kernelspec": {
   "display_name": "Python 3 (ipykernel)",
   "language": "python",
   "name": "python3"
  },
  "language_info": {
   "codemirror_mode": {
    "name": "ipython",
    "version": 3
   },
   "file_extension": ".py",
   "mimetype": "text/x-python",
   "name": "python",
   "nbconvert_exporter": "python",
   "pygments_lexer": "ipython3",
   "version": "3.11.8"
  }
 },
 "nbformat": 4,
 "nbformat_minor": 5
}
